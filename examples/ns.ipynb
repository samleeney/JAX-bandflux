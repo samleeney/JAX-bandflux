{
    "cells": [
        {
            "cell_type": "markdown",
            "metadata": {},
            "source": [
                "# Nested Sampling with JAX-bandflux on Google Colab\n",
                "\n",
                "This notebook demonstrates how to run the nested sampling procedure for supernovae SALT model fitting using the JAX-bandflux package (as implemented in `ns.py`). We will install the package, load the data, set up and run the nested sampling algorithm, and finally produce a corner plot of the posterior samples.\n",
                "\n",
                "For more examples and the complete codebase, visit the [JAX-bandflux GitHub repository](https://github.com/samleeney/JAX-bandflux). The academic paper associated with this work can be found [here](https://github.com/samleeney/JAX-bandflux/blob/71ca8d1b3b273147e1e9bf60a9ef11a806363b80/paper.bib)."
            ]
        },
        {
            "cell_type": "code",
            "execution_count": 7,
            "metadata": {},
            "outputs": [
                {
                    "name": "stderr",
                    "output_type": "stream",
                    "text": [
                        "/usr/lib/python3.13/pty.py:95: RuntimeWarning: os.fork() was called. os.fork() is incompatible with multithreaded code, and JAX is multithreaded, so this will likely lead to a deadlock.\n",
                        "  pid, fd = os.forkpty()\n"
                    ]
                },
                {
                    "name": "stdout",
                    "output_type": "stream",
                    "text": [
                        "\u001b[1;31merror\u001b[0m: \u001b[1mexternally-managed-environment\u001b[0m\n",
                        "\n",
                        "\u001b[31m×\u001b[0m This environment is externally managed\n",
                        "\u001b[31m╰─>\u001b[0m To install Python packages system-wide, try 'pacman -S\n",
                        "\u001b[31m   \u001b[0m python-xyz', where xyz is the package you are trying to\n",
                        "\u001b[31m   \u001b[0m install.\n",
                        "\u001b[31m   \u001b[0m \n",
                        "\u001b[31m   \u001b[0m If you wish to install a non-Arch-packaged Python package,\n",
                        "\u001b[31m   \u001b[0m create a virtual environment using 'python -m venv path/to/venv'.\n",
                        "\u001b[31m   \u001b[0m Then use path/to/venv/bin/python and path/to/venv/bin/pip.\n",
                        "\u001b[31m   \u001b[0m \n",
                        "\u001b[31m   \u001b[0m If you wish to install a non-Arch packaged Python application,\n",
                        "\u001b[31m   \u001b[0m it may be easiest to use 'pipx install xyz', which will manage a\n",
                        "\u001b[31m   \u001b[0m virtual environment for you. Make sure you have python-pipx\n",
                        "\u001b[31m   \u001b[0m installed via pacman.\n",
                        "\n",
                        "\u001b[1;35mnote\u001b[0m: If you believe this is a mistake, please contact your Python installation or OS distribution provider. You can override this, at the risk of breaking your Python installation or OS, by passing --break-system-packages.\n",
                        "\u001b[1;36mhint\u001b[0m: See PEP 668 for the detailed specification.\n",
                        "\u001b[1;31merror\u001b[0m: \u001b[1mexternally-managed-environment\u001b[0m\n",
                        "\n",
                        "\u001b[31m×\u001b[0m This environment is externally managed\n",
                        "\u001b[31m╰─>\u001b[0m To install Python packages system-wide, try 'pacman -S\n",
                        "\u001b[31m   \u001b[0m python-xyz', where xyz is the package you are trying to\n",
                        "\u001b[31m   \u001b[0m install.\n",
                        "\u001b[31m   \u001b[0m \n",
                        "\u001b[31m   \u001b[0m If you wish to install a non-Arch-packaged Python package,\n",
                        "\u001b[31m   \u001b[0m create a virtual environment using 'python -m venv path/to/venv'.\n",
                        "\u001b[31m   \u001b[0m Then use path/to/venv/bin/python and path/to/venv/bin/pip.\n",
                        "\u001b[31m   \u001b[0m \n",
                        "\u001b[31m   \u001b[0m If you wish to install a non-Arch packaged Python application,\n",
                        "\u001b[31m   \u001b[0m it may be easiest to use 'pipx install xyz', which will manage a\n",
                        "\u001b[31m   \u001b[0m virtual environment for you. Make sure you have python-pipx\n",
                        "\u001b[31m   \u001b[0m installed via pacman.\n",
                        "\n",
                        "\u001b[1;35mnote\u001b[0m: If you believe this is a mistake, please contact your Python installation or OS distribution provider. You can override this, at the risk of breaking your Python installation or OS, by passing --break-system-packages.\n",
                        "\u001b[1;36mhint\u001b[0m: See PEP 668 for the detailed specification.\n",
                        "\u001b[1;31merror\u001b[0m: \u001b[1mexternally-managed-environment\u001b[0m\n",
                        "\n",
                        "\u001b[31m×\u001b[0m This environment is externally managed\n",
                        "\u001b[31m╰─>\u001b[0m To install Python packages system-wide, try 'pacman -S\n",
                        "\u001b[31m   \u001b[0m python-xyz', where xyz is the package you are trying to\n",
                        "\u001b[31m   \u001b[0m install.\n",
                        "\u001b[31m   \u001b[0m \n",
                        "\u001b[31m   \u001b[0m If you wish to install a non-Arch-packaged Python package,\n",
                        "\u001b[31m   \u001b[0m create a virtual environment using 'python -m venv path/to/venv'.\n",
                        "\u001b[31m   \u001b[0m Then use path/to/venv/bin/python and path/to/venv/bin/pip.\n",
                        "\u001b[31m   \u001b[0m \n",
                        "\u001b[31m   \u001b[0m If you wish to install a non-Arch packaged Python application,\n",
                        "\u001b[31m   \u001b[0m it may be easiest to use 'pipx install xyz', which will manage a\n",
                        "\u001b[31m   \u001b[0m virtual environment for you. Make sure you have python-pipx\n",
                        "\u001b[31m   \u001b[0m installed via pacman.\n",
                        "\n",
                        "\u001b[1;35mnote\u001b[0m: If you believe this is a mistake, please contact your Python installation or OS distribution provider. You can override this, at the risk of breaking your Python installation or OS, by passing --break-system-packages.\n",
                        "\u001b[1;36mhint\u001b[0m: See PEP 668 for the detailed specification.\n",
                        "\u001b[1;31merror\u001b[0m: \u001b[1mexternally-managed-environment\u001b[0m\n",
                        "\n",
                        "\u001b[31m×\u001b[0m This environment is externally managed\n",
                        "\u001b[31m╰─>\u001b[0m To install Python packages system-wide, try 'pacman -S\n",
                        "\u001b[31m   \u001b[0m python-xyz', where xyz is the package you are trying to\n",
                        "\u001b[31m   \u001b[0m install.\n",
                        "\u001b[31m   \u001b[0m \n",
                        "\u001b[31m   \u001b[0m If you wish to install a non-Arch-packaged Python package,\n",
                        "\u001b[31m   \u001b[0m create a virtual environment using 'python -m venv path/to/venv'.\n",
                        "\u001b[31m   \u001b[0m Then use path/to/venv/bin/python and path/to/venv/bin/pip.\n",
                        "\u001b[31m   \u001b[0m \n",
                        "\u001b[31m   \u001b[0m If you wish to install a non-Arch packaged Python application,\n",
                        "\u001b[31m   \u001b[0m it may be easiest to use 'pipx install xyz', which will manage a\n",
                        "\u001b[31m   \u001b[0m virtual environment for you. Make sure you have python-pipx\n",
                        "\u001b[31m   \u001b[0m installed via pacman.\n",
                        "\n",
                        "\u001b[1;35mnote\u001b[0m: If you believe this is a mistake, please contact your Python installation or OS distribution provider. You can override this, at the risk of breaking your Python installation or OS, by passing --break-system-packages.\n",
                        "\u001b[1;36mhint\u001b[0m: See PEP 668 for the detailed specification.\n"
                    ]
                }
            ],
            "source": [
                "# Install JAX-bandflux and its dependencies\n",
                "!pip install jax-bandflux\n",
                "\n",
                "# Install BlackjaxNS and distrax\n",
                "!pip install git+https://github.com/handley-lab/blackjax@nested_sampling\n",
                "!pip install git+https://github.com/google-deepmind/distrax\n",
                "\n",
                "# Additional dependencies\n",
                "!pip install jax jaxlib anesthetic matplotlib tqdm"
            ]
        },
        {
            "cell_type": "markdown",
            "metadata": {},
            "source": [
                "## Importing Libraries and Loading Data\n",
                "\n",
                "In this section, we import the required libraries and load the supernova light curve data using the function `load_and_process_data`. This function will also register the required bandpasses, process the data, and prepare it for modelling."
            ]
        },
        {
            "cell_type": "code",
            "execution_count": 8,
            "metadata": {},
            "outputs": [
                {
                    "name": "stdout",
                    "output_type": "stream",
                    "text": [
                        "Loading data from /home/sam/academic/sn_anomaly2/jax_supernovae/data/19dwz/all.phot\n"
                    ]
                },
                {
                    "name": "stdout",
                    "output_type": "stream",
                    "text": [
                        "Data loaded:\n",
                        "Observation times shape: (33,)\n",
                        "Flux measurements shape: (33,)\n"
                    ]
                }
            ],
            "source": [
                "import jax\n",
                "import jax.numpy as jnp\n",
                "import numpy as np\n",
                "import matplotlib.pyplot as plt\n",
                "import tqdm\n",
                "\n",
                "from blackjax.ns.utils import log_weights\n",
                "from jax_supernovae.salt3 import optimized_salt3_multiband_flux\n",
                "from jax_supernovae.data import load_and_process_data\n",
                "from jax_supernovae.bandpasses import register_bandpass, get_bandpass, register_all_bandpasses\n",
                "from jax_supernovae.utils import save_chains_dead_birth\n",
                "from anesthetic import read_chains, make_2d_axes\n",
                "import os\n",
                "\n",
                "# Set flag to use fixed redshift\n",
                "fix_z = True\n",
                "\n",
                "# Load and process the data (ensure your data files are in the 'data' directory)\n",
                "times, fluxes, fluxerrs, zps, band_indices, bridges, fixed_z = load_and_process_data('19dwz', data_dir='data', fix_z=fix_z)\n",
                "\n",
                "print('Data loaded:')\n",
                "print('Observation times shape:', times.shape)\n",
                "print('Flux measurements shape:', fluxes.shape)"
            ]
        },
        {
            "cell_type": "markdown",
            "metadata": {},
            "source": [
                "## Setting Up the Nested Sampling Algorithm\n",
                "\n",
                "Here we define the necessary functions for nested sampling. These include the log prior and log likelihood functions, which will be utilised by the sampling algorithm from Blackjax. The parameters being fitted are `t0`, `x0` (expressed in log scale), `x1`, `c` and optionally `log_sigma`. Prior bounds and distributions are defined accordingly."
            ]
        },
        {
            "cell_type": "markdown",
            "metadata": {},
            "source": [
                "### Nested sampling settings\n",
                "On a GPU, you might consider setting 'n_delete' to a value close to n_live/2, e.g.,\n",
                "`NS_SETTINGS['n_delete'] = NS_SETTINGS['n_live'] // 2`. This change can substantially speedup the nested sampling algorithm."
            ]
        },
        {
            "cell_type": "code",
            "execution_count": 9,
            "metadata": {},
            "outputs": [],
            "source": [
                "# Nested sampling settings\n",
                "NS_SETTINGS = {\n",
                "    'max_iterations': int(os.environ.get('NS_MAX_ITERATIONS', '5000')),\n",
                "    'n_delete': 1,\n",
                "    'n_live': 125,\n",
                "    'num_mcmc_steps_multiplier': 5\n",
                "}\n"
            ]
        },
        {
            "cell_type": "markdown",
            "metadata": {},
            "source": [
                "### Setup prior bounds and distributions\n",
                "In this section, we define the prior bounds and distributions for our SALT3 model parameters. The priors are uniform distributions over physically meaningful ranges for each parameter. For fixed redshift cases, we fit for `t0` (time of peak brightness), `x0` (overall amplitude), `x1` (light curve stretch), and `c` (colour). When redshift is not fixed, we also fit for `z` (redshift)."
            ]
        },
        {
            "cell_type": "code",
            "execution_count": 10,
            "metadata": {},
            "outputs": [],
            "source": [
                "import os\n",
                "import distrax\n",
                "import blackjax\n",
                "\n",
                "# Define prior bounds for parameters\n",
                "PRIOR_BOUNDS = {\n",
                "    't0': {'min': 58000.0, 'max': 59000.0},\n",
                "    'x0': {'min': -5.0, 'max': -2.6},\n",
                "    'x1': {'min': -4.0, 'max': 4.0},\n",
                "    'c': {'min': -0.3, 'max': 0.3},\n",
                "    'log_sigma': {'min': -3.0, 'max': 1.0}\n",
                "}\n",
                "\n",
                "# Set whether to fit sigma (extra free parameter)\n",
                "fit_sigma = False\n",
                "\n",
                "if fix_z:\n",
                "    param_bounds = {\n",
                "        't0': (PRIOR_BOUNDS['t0']['min'], PRIOR_BOUNDS['t0']['max']),\n",
                "        'x0': (PRIOR_BOUNDS['x0']['min'], PRIOR_BOUNDS['x0']['max']),\n",
                "        'x1': (PRIOR_BOUNDS['x1']['min'], PRIOR_BOUNDS['x1']['max']),\n",
                "        'c': (PRIOR_BOUNDS['c']['min'], PRIOR_BOUNDS['c']['max'])\n",
                "    }\n",
                "    if fit_sigma:\n",
                "        param_bounds['log_sigma'] = (PRIOR_BOUNDS['log_sigma']['min'], PRIOR_BOUNDS['log_sigma']['max'])\n",
                "    prior_dists = {\n",
                "        't0': distrax.Uniform(low=param_bounds['t0'][0], high=param_bounds['t0'][1]),\n",
                "        'x0': distrax.Uniform(low=param_bounds['x0'][0], high=param_bounds['x0'][1]),\n",
                "        'x1': distrax.Uniform(low=param_bounds['x1'][0], high=param_bounds['x1'][1]),\n",
                "        'c': distrax.Uniform(low=param_bounds['c'][0], high=param_bounds['c'][1])\n",
                "    }\n",
                "    if fit_sigma:\n",
                "        prior_dists['log_sigma'] = distrax.Uniform(low=param_bounds['log_sigma'][0], high=param_bounds['log_sigma'][1])\n",
                "else:\n",
                "    param_bounds = {\n",
                "        'z': (0.001, 0.2),\n",
                "        't0': (PRIOR_BOUNDS['t0']['min'], PRIOR_BOUNDS['t0']['max']),\n",
                "        'x0': (PRIOR_BOUNDS['x0']['min'], PRIOR_BOUNDS['x0']['max']),\n",
                "        'x1': (PRIOR_BOUNDS['x1']['min'], PRIOR_BOUNDS['x1']['max']),\n",
                "        'c': (PRIOR_BOUNDS['c']['min'], PRIOR_BOUNDS['c']['max'])\n",
                "    }\n",
                "    if fit_sigma:\n",
                "        param_bounds['log_sigma'] = (PRIOR_BOUNDS['log_sigma']['min'], PRIOR_BOUNDS['log_sigma']['max'])\n",
                "    prior_dists = {\n",
                "        'z': distrax.Uniform(low=param_bounds['z'][0], high=param_bounds['z'][1]),\n",
                "        't0': distrax.Uniform(low=param_bounds['t0'][0], high=param_bounds['t0'][1]),\n",
                "        'x0': distrax.Uniform(low=param_bounds['x0'][0], high=param_bounds['x0'][1]),\n",
                "        'x1': distrax.Uniform(low=param_bounds['x1'][0], high=param_bounds['x1'][1]),\n",
                "        'c': distrax.Uniform(low=param_bounds['c'][0], high=param_bounds['c'][1])\n",
                "    }\n",
                "    if fit_sigma:\n",
                "        prior_dists['log_sigma'] = distrax.Uniform(low=param_bounds['log_sigma'][0], high=param_bounds['log_sigma'][1])\n",
                "\n",
                "# Define the log prior function\n",
                "@jax.jit\n",
                "def logprior(params):\n",
                "    params = jnp.atleast_2d(params)\n",
                "    if fix_z:\n",
                "        if fit_sigma:\n",
                "            logp = (prior_dists['t0'].log_prob(params[:, 0]) +\n",
                "                    prior_dists['x0'].log_prob(params[:, 1]) +\n",
                "                    prior_dists['x1'].log_prob(params[:, 2]) +\n",
                "                    prior_dists['c'].log_prob(params[:, 3]) +\n",
                "                    prior_dists['log_sigma'].log_prob(params[:, 4]))\n",
                "        else:\n",
                "            logp = (prior_dists['t0'].log_prob(params[:, 0]) +\n",
                "                    prior_dists['x0'].log_prob(params[:, 1]) +\n",
                "                    prior_dists['x1'].log_prob(params[:, 2]) +\n",
                "                    prior_dists['c'].log_prob(params[:, 3]))\n",
                "    else:\n",
                "        if fit_sigma:\n",
                "            logp = (prior_dists['z'].log_prob(params[:, 0]) +\n",
                "                    prior_dists['t0'].log_prob(params[:, 1]) +\n",
                "                    prior_dists['x0'].log_prob(params[:, 2]) +\n",
                "                    prior_dists['x1'].log_prob(params[:, 3]) +\n",
                "                    prior_dists['c'].log_prob(params[:, 4]) +\n",
                "                    prior_dists['log_sigma'].log_prob(params[:, 5]))\n",
                "        else:\n",
                "            logp = (prior_dists['z'].log_prob(params[:, 0]) +\n",
                "                    prior_dists['t0'].log_prob(params[:, 1]) +\n",
                "                    prior_dists['x0'].log_prob(params[:, 2]) +\n",
                "                    prior_dists['x1'].log_prob(params[:, 3]) +\n",
                "                    prior_dists['c'].log_prob(params[:, 4]))\n",
                "    return jnp.reshape(logp, (-1,))\n",
                "\n",
                "# Define the log likelihood functions\n",
                "@jax.jit\n",
                "def compute_single_loglikelihood(params):\n",
                "    if fix_z:\n",
                "        if fit_sigma:\n",
                "            t0, log_x0, x1, c, log_sigma = params\n",
                "            sigma = 10 ** log_sigma\n",
                "        else:\n",
                "            t0, log_x0, x1, c = params\n",
                "            sigma = 1.0\n",
                "        z = fixed_z[0]\n",
                "    else:\n",
                "        if fit_sigma:\n",
                "            z, t0, log_x0, x1, c, log_sigma = params\n",
                "            sigma = 10 ** log_sigma\n",
                "        else:\n",
                "            z, t0, log_x0, x1, c = params\n",
                "            sigma = 1.0\n",
                "    x0 = 10 ** log_x0\n",
                "    param_dict = {'z': z, 't0': t0, 'x0': x0, 'x1': x1, 'c': c}\n",
                "    model_fluxes = optimized_salt3_multiband_flux(times, bridges, param_dict, zps=zps, zpsys='ab')\n",
                "    model_fluxes = model_fluxes[jnp.arange(len(times)), band_indices]\n",
                "    eff_fluxerrs = sigma * fluxerrs\n",
                "    chi2 = jnp.sum(((fluxes - model_fluxes) / eff_fluxerrs) ** 2)\n",
                "    log_likelihood = -0.5 * (chi2 + jnp.sum(jnp.log(2 * jnp.pi * eff_fluxerrs ** 2)))\n",
                "    return log_likelihood\n",
                "\n",
                "@jax.jit\n",
                "def compute_batch_loglikelihood(params):\n",
                "    params = jnp.atleast_2d(params)\n",
                "    batch_loglike = jax.vmap(compute_single_loglikelihood)(params)\n",
                "    return jnp.reshape(batch_loglike, (-1,))\n",
                "\n",
                "@jax.jit\n",
                "def loglikelihood(params):\n",
                "    params = jnp.atleast_2d(params)\n",
                "    return compute_batch_loglikelihood(params)\n",
                "\n",
                "def sample_from_priors(rng_key, n_samples):\n",
                "    if fix_z:\n",
                "        if fit_sigma:\n",
                "            keys = jax.random.split(rng_key, 5)\n",
                "            return jnp.column_stack([\n",
                "                prior_dists['t0'].sample(seed=keys[0], sample_shape=(n_samples,)),\n",
                "                prior_dists['x0'].sample(seed=keys[1], sample_shape=(n_samples,)),\n",
                "                prior_dists['x1'].sample(seed=keys[2], sample_shape=(n_samples,)),\n",
                "                prior_dists['c'].sample(seed=keys[3], sample_shape=(n_samples,)),\n",
                "                prior_dists['log_sigma'].sample(seed=keys[4], sample_shape=(n_samples,))\n",
                "            ])\n",
                "        else:\n",
                "            keys = jax.random.split(rng_key, 4)\n",
                "            return jnp.column_stack([\n",
                "                prior_dists['t0'].sample(seed=keys[0], sample_shape=(n_samples,)),\n",
                "                prior_dists['x0'].sample(seed=keys[1], sample_shape=(n_samples,)),\n",
                "                prior_dists['x1'].sample(seed=keys[2], sample_shape=(n_samples,)),\n",
                "                prior_dists['c'].sample(seed=keys[3], sample_shape=(n_samples,))\n",
                "            ])\n",
                "    else:\n",
                "        if fit_sigma:\n",
                "            keys = jax.random.split(rng_key, 6)\n",
                "            return jnp.column_stack([\n",
                "                prior_dists['z'].sample(seed=keys[0], sample_shape=(n_samples,)),\n",
                "                prior_dists['t0'].sample(seed=keys[1], sample_shape=(n_samples,)),\n",
                "                prior_dists['x0'].sample(seed=keys[2], sample_shape=(n_samples,)),\n",
                "                prior_dists['x1'].sample(seed=keys[3], sample_shape=(n_samples,)),\n",
                "                prior_dists['c'].sample(seed=keys[4], sample_shape=(n_samples,)),\n",
                "                prior_dists['log_sigma'].sample(seed=keys[5], sample_shape=(n_samples,))\n",
                "            ])\n",
                "        else:\n",
                "            keys = jax.random.split(rng_key, 5)\n",
                "            return jnp.column_stack([\n",
                "                prior_dists['z'].sample(seed=keys[0], sample_shape=(n_samples,)),\n",
                "                prior_dists['t0'].sample(seed=keys[1], sample_shape=(n_samples,)),\n",
                "                prior_dists['x0'].sample(seed=keys[2], sample_shape=(n_samples,)),\n",
                "                prior_dists['x1'].sample(seed=keys[3], sample_shape=(n_samples,)),\n",
                "                prior_dists['c'].sample(seed=keys[4], sample_shape=(n_samples,))\n",
                "            ])\n",
                "\n",
                "if fix_z:\n",
                "    n_params_total = 4\n",
                "else:\n",
                "    n_params_total = 5\n",
                "if fit_sigma:\n",
                "    n_params_total += 1"
            ]
        },
        {
            "cell_type": "markdown",
            "metadata": {},
            "source": [
                "### Initialise the nested sampling algorithm"
            ]
        },
        {
            "cell_type": "code",
            "execution_count": 11,
            "metadata": {},
            "outputs": [
                {
                    "name": "stdout",
                    "output_type": "stream",
                    "text": [
                        "Setting up nested sampling algorithm...\n",
                        "Initial particles generated, shape: (125, 4)\n"
                    ]
                }
            ],
            "source": [
                "num_mcmc_steps = n_params_total * NS_SETTINGS['num_mcmc_steps_multiplier']\n",
                "\n",
                "# Initialise the nested sampling algorithm using Blackjax\n",
                "print(\"Setting up nested sampling algorithm...\")\n",
                "algo = blackjax.ns.adaptive.nss(\n",
                "    logprior_fn=logprior,\n",
                "    loglikelihood_fn=loglikelihood,\n",
                "    n_delete=NS_SETTINGS['n_delete'],\n",
                "    num_mcmc_steps=num_mcmc_steps\n",
                ")\n",
                "\n",
                "# Initialise random key and generate initial particles\n",
                "rng_key = jax.random.PRNGKey(0)\n",
                "rng_key, init_key = jax.random.split(rng_key)\n",
                "\n",
                "initial_particles = sample_from_priors(init_key, NS_SETTINGS['n_live'])\n",
                "print(\"Initial particles generated, shape:\", initial_particles.shape)\n",
                "\n",
                "# Initialise the sampler state\n",
                "state = algo.init(initial_particles, compute_batch_loglikelihood)\n",
                "\n",
                "# Define a one-step function for the nested sampling (JIT compiled for efficiency)\n",
                "@jax.jit\n",
                "def one_step(carry, xs):\n",
                "    state, k = carry\n",
                "    k, subk = jax.random.split(k, 2)\n",
                "    state, dead_point = algo.step(subk, state)\n",
                "    return (state, k), dead_point"
            ]
        },
        {
            "cell_type": "markdown",
            "metadata": {},
            "source": [
                "## Running the Nested Sampling\n",
                "\n",
                "Now we run the nested sampling algorithm for a specified number of iterations. The loop stops if the evidence of the live points is sufficiently lower than that of the dead points. Progress is printed every 10 iterations."
            ]
        },
        {
            "cell_type": "code",
            "execution_count": 12,
            "metadata": {},
            "outputs": [
                {
                    "name": "stdout",
                    "output_type": "stream",
                    "text": [
                        "Running nested sampling...\n"
                    ]
                },
                {
                    "name": "stderr",
                    "output_type": "stream",
                    "text": [
                        "  0%|          | 1/5000 [00:33<46:40:43, 33.62s/it]"
                    ]
                },
                {
                    "name": "stdout",
                    "output_type": "stream",
                    "text": [
                        "Iteration 0: logZ = -3641.00\n"
                    ]
                },
                {
                    "name": "stderr",
                    "output_type": "stream",
                    "text": [
                        "  0%|          | 13/5000 [01:08<45:34,  1.82it/s]  "
                    ]
                },
                {
                    "name": "stdout",
                    "output_type": "stream",
                    "text": [
                        "Iteration 10: logZ = -1125.05\n"
                    ]
                },
                {
                    "name": "stderr",
                    "output_type": "stream",
                    "text": [
                        "  0%|          | 23/5000 [01:10<15:42,  5.28it/s]"
                    ]
                },
                {
                    "name": "stdout",
                    "output_type": "stream",
                    "text": [
                        "Iteration 20: logZ = -1124.27\n"
                    ]
                },
                {
                    "name": "stderr",
                    "output_type": "stream",
                    "text": [
                        "  1%|          | 33/5000 [01:11<14:46,  5.60it/s]"
                    ]
                },
                {
                    "name": "stdout",
                    "output_type": "stream",
                    "text": [
                        "Iteration 30: logZ = -1123.87\n"
                    ]
                },
                {
                    "name": "stderr",
                    "output_type": "stream",
                    "text": [
                        "  1%|          | 41/5000 [01:13<21:06,  3.91it/s]"
                    ]
                },
                {
                    "name": "stdout",
                    "output_type": "stream",
                    "text": [
                        "Iteration 40: logZ = -1123.60\n"
                    ]
                },
                {
                    "name": "stderr",
                    "output_type": "stream",
                    "text": [
                        "  1%|          | 51/5000 [01:15<19:47,  4.17it/s]"
                    ]
                },
                {
                    "name": "stdout",
                    "output_type": "stream",
                    "text": [
                        "Iteration 50: logZ = -1123.41\n"
                    ]
                },
                {
                    "name": "stderr",
                    "output_type": "stream",
                    "text": [
                        "  1%|          | 61/5000 [01:17<20:38,  3.99it/s]"
                    ]
                },
                {
                    "name": "stdout",
                    "output_type": "stream",
                    "text": [
                        "Iteration 60: logZ = -1123.26\n"
                    ]
                },
                {
                    "name": "stderr",
                    "output_type": "stream",
                    "text": [
                        "  1%|▏         | 71/5000 [01:19<23:15,  3.53it/s]"
                    ]
                },
                {
                    "name": "stdout",
                    "output_type": "stream",
                    "text": [
                        "Iteration 70: logZ = -1123.13\n"
                    ]
                },
                {
                    "name": "stderr",
                    "output_type": "stream",
                    "text": [
                        "  2%|▏         | 81/5000 [01:21<22:27,  3.65it/s]"
                    ]
                },
                {
                    "name": "stdout",
                    "output_type": "stream",
                    "text": [
                        "Iteration 80: logZ = -1123.03\n"
                    ]
                },
                {
                    "name": "stderr",
                    "output_type": "stream",
                    "text": [
                        "  2%|▏         | 93/5000 [01:24<14:36,  5.60it/s]"
                    ]
                },
                {
                    "name": "stdout",
                    "output_type": "stream",
                    "text": [
                        "Iteration 90: logZ = -1122.95\n"
                    ]
                },
                {
                    "name": "stderr",
                    "output_type": "stream",
                    "text": [
                        "  2%|▏         | 103/5000 [01:26<15:06,  5.40it/s]"
                    ]
                },
                {
                    "name": "stdout",
                    "output_type": "stream",
                    "text": [
                        "Iteration 100: logZ = -1122.87\n"
                    ]
                },
                {
                    "name": "stderr",
                    "output_type": "stream",
                    "text": [
                        "  2%|▏         | 113/5000 [01:28<14:40,  5.55it/s]"
                    ]
                },
                {
                    "name": "stdout",
                    "output_type": "stream",
                    "text": [
                        "Iteration 110: logZ = -1122.81\n"
                    ]
                },
                {
                    "name": "stderr",
                    "output_type": "stream",
                    "text": [
                        "  2%|▏         | 121/5000 [01:29<21:39,  3.76it/s]"
                    ]
                },
                {
                    "name": "stdout",
                    "output_type": "stream",
                    "text": [
                        "Iteration 120: logZ = -1122.75\n"
                    ]
                },
                {
                    "name": "stderr",
                    "output_type": "stream",
                    "text": [
                        "  3%|▎         | 131/5000 [01:32<22:49,  3.56it/s]"
                    ]
                },
                {
                    "name": "stdout",
                    "output_type": "stream",
                    "text": [
                        "Iteration 130: logZ = -1122.69\n"
                    ]
                },
                {
                    "name": "stderr",
                    "output_type": "stream",
                    "text": [
                        "  3%|▎         | 141/5000 [01:34<20:47,  3.90it/s]"
                    ]
                },
                {
                    "name": "stdout",
                    "output_type": "stream",
                    "text": [
                        "Iteration 140: logZ = -1122.57\n"
                    ]
                },
                {
                    "name": "stderr",
                    "output_type": "stream",
                    "text": [
                        "  3%|▎         | 151/5000 [01:36<22:03,  3.66it/s]"
                    ]
                },
                {
                    "name": "stdout",
                    "output_type": "stream",
                    "text": [
                        "Iteration 150: logZ = -1122.40\n"
                    ]
                },
                {
                    "name": "stderr",
                    "output_type": "stream",
                    "text": [
                        "  3%|▎         | 161/5000 [01:38<21:53,  3.68it/s]"
                    ]
                },
                {
                    "name": "stdout",
                    "output_type": "stream",
                    "text": [
                        "Iteration 160: logZ = -1122.06\n"
                    ]
                },
                {
                    "name": "stderr",
                    "output_type": "stream",
                    "text": [
                        "  3%|▎         | 173/5000 [01:40<14:44,  5.46it/s]"
                    ]
                },
                {
                    "name": "stdout",
                    "output_type": "stream",
                    "text": [
                        "Iteration 170: logZ = -1120.59\n"
                    ]
                },
                {
                    "name": "stderr",
                    "output_type": "stream",
                    "text": [
                        "  4%|▎         | 181/5000 [01:42<22:24,  3.58it/s]"
                    ]
                },
                {
                    "name": "stdout",
                    "output_type": "stream",
                    "text": [
                        "Iteration 180: logZ = -1118.38\n"
                    ]
                },
                {
                    "name": "stderr",
                    "output_type": "stream",
                    "text": [
                        "  4%|▍         | 191/5000 [01:44<20:43,  3.87it/s]"
                    ]
                },
                {
                    "name": "stdout",
                    "output_type": "stream",
                    "text": [
                        "Iteration 190: logZ = -1115.40\n"
                    ]
                },
                {
                    "name": "stderr",
                    "output_type": "stream",
                    "text": [
                        "  4%|▍         | 203/5000 [01:47<15:40,  5.10it/s]"
                    ]
                },
                {
                    "name": "stdout",
                    "output_type": "stream",
                    "text": [
                        "Iteration 200: logZ = -1112.72\n"
                    ]
                },
                {
                    "name": "stderr",
                    "output_type": "stream",
                    "text": [
                        "  4%|▍         | 213/5000 [01:49<16:04,  4.96it/s]"
                    ]
                },
                {
                    "name": "stdout",
                    "output_type": "stream",
                    "text": [
                        "Iteration 210: logZ = -1108.33\n"
                    ]
                },
                {
                    "name": "stderr",
                    "output_type": "stream",
                    "text": [
                        "  4%|▍         | 223/5000 [01:51<14:32,  5.47it/s]"
                    ]
                },
                {
                    "name": "stdout",
                    "output_type": "stream",
                    "text": [
                        "Iteration 220: logZ = -1103.85\n"
                    ]
                },
                {
                    "name": "stderr",
                    "output_type": "stream",
                    "text": [
                        "  5%|▍         | 231/5000 [01:53<20:17,  3.92it/s]"
                    ]
                },
                {
                    "name": "stdout",
                    "output_type": "stream",
                    "text": [
                        "Iteration 230: logZ = -1099.01\n"
                    ]
                },
                {
                    "name": "stderr",
                    "output_type": "stream",
                    "text": [
                        "  5%|▍         | 241/5000 [01:55<20:52,  3.80it/s]"
                    ]
                },
                {
                    "name": "stdout",
                    "output_type": "stream",
                    "text": [
                        "Iteration 240: logZ = -1090.75\n"
                    ]
                },
                {
                    "name": "stderr",
                    "output_type": "stream",
                    "text": [
                        "  5%|▌         | 253/5000 [01:58<18:40,  4.24it/s]"
                    ]
                },
                {
                    "name": "stdout",
                    "output_type": "stream",
                    "text": [
                        "Iteration 250: logZ = -1082.83\n"
                    ]
                },
                {
                    "name": "stderr",
                    "output_type": "stream",
                    "text": [
                        "  5%|▌         | 263/5000 [02:01<15:57,  4.95it/s]"
                    ]
                },
                {
                    "name": "stdout",
                    "output_type": "stream",
                    "text": [
                        "Iteration 260: logZ = -1077.48\n"
                    ]
                },
                {
                    "name": "stderr",
                    "output_type": "stream",
                    "text": [
                        "  5%|▌         | 271/5000 [02:02<20:51,  3.78it/s]"
                    ]
                },
                {
                    "name": "stdout",
                    "output_type": "stream",
                    "text": [
                        "Iteration 270: logZ = -1069.21\n"
                    ]
                },
                {
                    "name": "stderr",
                    "output_type": "stream",
                    "text": [
                        "  6%|▌         | 281/5000 [02:05<20:42,  3.80it/s]"
                    ]
                },
                {
                    "name": "stdout",
                    "output_type": "stream",
                    "text": [
                        "Iteration 280: logZ = -1056.84\n"
                    ]
                },
                {
                    "name": "stderr",
                    "output_type": "stream",
                    "text": [
                        "  6%|▌         | 291/5000 [02:07<20:39,  3.80it/s]"
                    ]
                },
                {
                    "name": "stdout",
                    "output_type": "stream",
                    "text": [
                        "Iteration 290: logZ = -1052.70\n"
                    ]
                },
                {
                    "name": "stderr",
                    "output_type": "stream",
                    "text": [
                        "  6%|▌         | 303/5000 [02:09<14:38,  5.35it/s]"
                    ]
                },
                {
                    "name": "stdout",
                    "output_type": "stream",
                    "text": [
                        "Iteration 300: logZ = -1046.45\n"
                    ]
                },
                {
                    "name": "stderr",
                    "output_type": "stream",
                    "text": [
                        "  6%|▌         | 311/5000 [02:11<20:49,  3.75it/s]"
                    ]
                },
                {
                    "name": "stdout",
                    "output_type": "stream",
                    "text": [
                        "Iteration 310: logZ = -1035.06\n"
                    ]
                },
                {
                    "name": "stderr",
                    "output_type": "stream",
                    "text": [
                        "  6%|▋         | 321/5000 [02:13<22:47,  3.42it/s]"
                    ]
                },
                {
                    "name": "stdout",
                    "output_type": "stream",
                    "text": [
                        "Iteration 320: logZ = -1024.20\n"
                    ]
                },
                {
                    "name": "stderr",
                    "output_type": "stream",
                    "text": [
                        "  7%|▋         | 331/5000 [02:15<20:27,  3.80it/s]"
                    ]
                },
                {
                    "name": "stdout",
                    "output_type": "stream",
                    "text": [
                        "Iteration 330: logZ = -1012.27\n"
                    ]
                },
                {
                    "name": "stderr",
                    "output_type": "stream",
                    "text": [
                        "  7%|▋         | 343/5000 [02:18<16:10,  4.80it/s]"
                    ]
                },
                {
                    "name": "stdout",
                    "output_type": "stream",
                    "text": [
                        "Iteration 340: logZ = -1003.93\n"
                    ]
                },
                {
                    "name": "stderr",
                    "output_type": "stream",
                    "text": [
                        "  7%|▋         | 353/5000 [02:20<15:00,  5.16it/s]"
                    ]
                },
                {
                    "name": "stdout",
                    "output_type": "stream",
                    "text": [
                        "Iteration 350: logZ = -991.81\n"
                    ]
                },
                {
                    "name": "stderr",
                    "output_type": "stream",
                    "text": [
                        "  7%|▋         | 361/5000 [02:22<21:39,  3.57it/s]"
                    ]
                },
                {
                    "name": "stdout",
                    "output_type": "stream",
                    "text": [
                        "Iteration 360: logZ = -964.04\n"
                    ]
                },
                {
                    "name": "stderr",
                    "output_type": "stream",
                    "text": [
                        "  7%|▋         | 371/5000 [02:24<20:37,  3.74it/s]"
                    ]
                },
                {
                    "name": "stdout",
                    "output_type": "stream",
                    "text": [
                        "Iteration 370: logZ = -949.44\n"
                    ]
                },
                {
                    "name": "stderr",
                    "output_type": "stream",
                    "text": [
                        "  8%|▊         | 381/5000 [02:26<20:42,  3.72it/s]"
                    ]
                },
                {
                    "name": "stdout",
                    "output_type": "stream",
                    "text": [
                        "Iteration 380: logZ = -931.09\n"
                    ]
                },
                {
                    "name": "stderr",
                    "output_type": "stream",
                    "text": [
                        "  8%|▊         | 391/5000 [02:28<20:40,  3.72it/s]"
                    ]
                },
                {
                    "name": "stdout",
                    "output_type": "stream",
                    "text": [
                        "Iteration 390: logZ = -895.72\n"
                    ]
                },
                {
                    "name": "stderr",
                    "output_type": "stream",
                    "text": [
                        "  8%|▊         | 403/5000 [02:31<14:45,  5.19it/s]"
                    ]
                },
                {
                    "name": "stdout",
                    "output_type": "stream",
                    "text": [
                        "Iteration 400: logZ = -842.99\n"
                    ]
                },
                {
                    "name": "stderr",
                    "output_type": "stream",
                    "text": [
                        "  8%|▊         | 411/5000 [02:33<22:50,  3.35it/s]"
                    ]
                },
                {
                    "name": "stdout",
                    "output_type": "stream",
                    "text": [
                        "Iteration 410: logZ = -815.30\n"
                    ]
                },
                {
                    "name": "stderr",
                    "output_type": "stream",
                    "text": [
                        "  8%|▊         | 421/5000 [02:35<20:48,  3.67it/s]"
                    ]
                },
                {
                    "name": "stdout",
                    "output_type": "stream",
                    "text": [
                        "Iteration 420: logZ = -776.34\n"
                    ]
                },
                {
                    "name": "stderr",
                    "output_type": "stream",
                    "text": [
                        "  9%|▊         | 431/5000 [02:37<20:14,  3.76it/s]"
                    ]
                },
                {
                    "name": "stdout",
                    "output_type": "stream",
                    "text": [
                        "Iteration 430: logZ = -751.89\n"
                    ]
                },
                {
                    "name": "stderr",
                    "output_type": "stream",
                    "text": [
                        "  9%|▉         | 443/5000 [02:39<15:36,  4.87it/s]"
                    ]
                },
                {
                    "name": "stdout",
                    "output_type": "stream",
                    "text": [
                        "Iteration 440: logZ = -724.78\n"
                    ]
                },
                {
                    "name": "stderr",
                    "output_type": "stream",
                    "text": [
                        "  9%|▉         | 451/5000 [02:41<20:11,  3.76it/s]"
                    ]
                },
                {
                    "name": "stdout",
                    "output_type": "stream",
                    "text": [
                        "Iteration 450: logZ = -701.50\n"
                    ]
                },
                {
                    "name": "stderr",
                    "output_type": "stream",
                    "text": [
                        "  9%|▉         | 461/5000 [02:43<20:07,  3.76it/s]"
                    ]
                },
                {
                    "name": "stdout",
                    "output_type": "stream",
                    "text": [
                        "Iteration 460: logZ = -664.37\n"
                    ]
                },
                {
                    "name": "stderr",
                    "output_type": "stream",
                    "text": [
                        "  9%|▉         | 471/5000 [02:45<20:09,  3.74it/s]"
                    ]
                },
                {
                    "name": "stdout",
                    "output_type": "stream",
                    "text": [
                        "Iteration 470: logZ = -650.63\n"
                    ]
                },
                {
                    "name": "stderr",
                    "output_type": "stream",
                    "text": [
                        " 10%|▉         | 481/5000 [02:47<19:33,  3.85it/s]"
                    ]
                },
                {
                    "name": "stdout",
                    "output_type": "stream",
                    "text": [
                        "Iteration 480: logZ = -609.06\n"
                    ]
                },
                {
                    "name": "stderr",
                    "output_type": "stream",
                    "text": [
                        " 10%|▉         | 491/5000 [02:49<19:54,  3.78it/s]"
                    ]
                },
                {
                    "name": "stdout",
                    "output_type": "stream",
                    "text": [
                        "Iteration 490: logZ = -583.18\n"
                    ]
                },
                {
                    "name": "stderr",
                    "output_type": "stream",
                    "text": [
                        " 10%|█         | 501/5000 [02:52<20:19,  3.69it/s]"
                    ]
                },
                {
                    "name": "stdout",
                    "output_type": "stream",
                    "text": [
                        "Iteration 500: logZ = -567.21\n"
                    ]
                },
                {
                    "name": "stderr",
                    "output_type": "stream",
                    "text": [
                        " 10%|█         | 511/5000 [02:54<20:15,  3.69it/s]"
                    ]
                },
                {
                    "name": "stdout",
                    "output_type": "stream",
                    "text": [
                        "Iteration 510: logZ = -533.73\n"
                    ]
                },
                {
                    "name": "stderr",
                    "output_type": "stream",
                    "text": [
                        " 10%|█         | 523/5000 [02:56<14:39,  5.09it/s]"
                    ]
                },
                {
                    "name": "stdout",
                    "output_type": "stream",
                    "text": [
                        "Iteration 520: logZ = -510.61\n"
                    ]
                },
                {
                    "name": "stderr",
                    "output_type": "stream",
                    "text": [
                        " 11%|█         | 531/5000 [02:58<20:29,  3.64it/s]"
                    ]
                },
                {
                    "name": "stdout",
                    "output_type": "stream",
                    "text": [
                        "Iteration 530: logZ = -495.35\n"
                    ]
                },
                {
                    "name": "stderr",
                    "output_type": "stream",
                    "text": [
                        " 11%|█         | 543/5000 [03:00<13:38,  5.45it/s]"
                    ]
                },
                {
                    "name": "stdout",
                    "output_type": "stream",
                    "text": [
                        "Iteration 540: logZ = -473.13\n"
                    ]
                },
                {
                    "name": "stderr",
                    "output_type": "stream",
                    "text": [
                        " 11%|█         | 551/5000 [03:02<19:56,  3.72it/s]"
                    ]
                },
                {
                    "name": "stdout",
                    "output_type": "stream",
                    "text": [
                        "Iteration 550: logZ = -453.53\n"
                    ]
                },
                {
                    "name": "stderr",
                    "output_type": "stream",
                    "text": [
                        " 11%|█         | 561/5000 [03:04<19:54,  3.72it/s]"
                    ]
                },
                {
                    "name": "stdout",
                    "output_type": "stream",
                    "text": [
                        "Iteration 560: logZ = -439.59\n"
                    ]
                },
                {
                    "name": "stderr",
                    "output_type": "stream",
                    "text": [
                        " 11%|█▏        | 571/5000 [03:06<19:24,  3.80it/s]"
                    ]
                },
                {
                    "name": "stdout",
                    "output_type": "stream",
                    "text": [
                        "Iteration 570: logZ = -428.28\n"
                    ]
                },
                {
                    "name": "stderr",
                    "output_type": "stream",
                    "text": [
                        " 12%|█▏        | 581/5000 [03:08<20:19,  3.62it/s]"
                    ]
                },
                {
                    "name": "stdout",
                    "output_type": "stream",
                    "text": [
                        "Iteration 580: logZ = -398.54\n"
                    ]
                },
                {
                    "name": "stderr",
                    "output_type": "stream",
                    "text": [
                        " 12%|█▏        | 591/5000 [03:11<19:08,  3.84it/s]"
                    ]
                },
                {
                    "name": "stdout",
                    "output_type": "stream",
                    "text": [
                        "Iteration 590: logZ = -386.02\n"
                    ]
                },
                {
                    "name": "stderr",
                    "output_type": "stream",
                    "text": [
                        " 12%|█▏        | 601/5000 [03:13<20:20,  3.60it/s]"
                    ]
                },
                {
                    "name": "stdout",
                    "output_type": "stream",
                    "text": [
                        "Iteration 600: logZ = -373.01\n"
                    ]
                },
                {
                    "name": "stderr",
                    "output_type": "stream",
                    "text": [
                        " 12%|█▏        | 611/5000 [03:15<21:07,  3.46it/s]"
                    ]
                },
                {
                    "name": "stdout",
                    "output_type": "stream",
                    "text": [
                        "Iteration 610: logZ = -364.14\n"
                    ]
                },
                {
                    "name": "stderr",
                    "output_type": "stream",
                    "text": [
                        " 12%|█▏        | 621/5000 [03:17<20:36,  3.54it/s]"
                    ]
                },
                {
                    "name": "stdout",
                    "output_type": "stream",
                    "text": [
                        "Iteration 620: logZ = -347.38\n"
                    ]
                },
                {
                    "name": "stderr",
                    "output_type": "stream",
                    "text": [
                        " 13%|█▎        | 631/5000 [03:19<19:47,  3.68it/s]"
                    ]
                },
                {
                    "name": "stdout",
                    "output_type": "stream",
                    "text": [
                        "Iteration 630: logZ = -334.47\n"
                    ]
                },
                {
                    "name": "stderr",
                    "output_type": "stream",
                    "text": [
                        " 13%|█▎        | 641/5000 [03:21<20:35,  3.53it/s]"
                    ]
                },
                {
                    "name": "stdout",
                    "output_type": "stream",
                    "text": [
                        "Iteration 640: logZ = -323.57\n"
                    ]
                },
                {
                    "name": "stderr",
                    "output_type": "stream",
                    "text": [
                        " 13%|█▎        | 651/5000 [03:24<20:41,  3.50it/s]"
                    ]
                },
                {
                    "name": "stdout",
                    "output_type": "stream",
                    "text": [
                        "Iteration 650: logZ = -308.96\n"
                    ]
                },
                {
                    "name": "stderr",
                    "output_type": "stream",
                    "text": [
                        " 13%|█▎        | 661/5000 [03:26<18:29,  3.91it/s]"
                    ]
                },
                {
                    "name": "stdout",
                    "output_type": "stream",
                    "text": [
                        "Iteration 660: logZ = -298.17\n"
                    ]
                },
                {
                    "name": "stderr",
                    "output_type": "stream",
                    "text": [
                        " 13%|█▎        | 671/5000 [03:28<19:55,  3.62it/s]"
                    ]
                },
                {
                    "name": "stdout",
                    "output_type": "stream",
                    "text": [
                        "Iteration 670: logZ = -291.77\n"
                    ]
                },
                {
                    "name": "stderr",
                    "output_type": "stream",
                    "text": [
                        " 14%|█▎        | 681/5000 [03:30<19:54,  3.62it/s]"
                    ]
                },
                {
                    "name": "stdout",
                    "output_type": "stream",
                    "text": [
                        "Iteration 680: logZ = -283.47\n"
                    ]
                },
                {
                    "name": "stderr",
                    "output_type": "stream",
                    "text": [
                        " 14%|█▍        | 691/5000 [03:32<19:34,  3.67it/s]"
                    ]
                },
                {
                    "name": "stdout",
                    "output_type": "stream",
                    "text": [
                        "Iteration 690: logZ = -274.97\n"
                    ]
                },
                {
                    "name": "stderr",
                    "output_type": "stream",
                    "text": [
                        " 14%|█▍        | 701/5000 [03:34<20:53,  3.43it/s]"
                    ]
                },
                {
                    "name": "stdout",
                    "output_type": "stream",
                    "text": [
                        "Iteration 700: logZ = -268.76\n"
                    ]
                },
                {
                    "name": "stderr",
                    "output_type": "stream",
                    "text": [
                        " 14%|█▍        | 711/5000 [03:37<19:39,  3.64it/s]"
                    ]
                },
                {
                    "name": "stdout",
                    "output_type": "stream",
                    "text": [
                        "Iteration 710: logZ = -260.15\n"
                    ]
                },
                {
                    "name": "stderr",
                    "output_type": "stream",
                    "text": [
                        " 14%|█▍        | 721/5000 [03:39<19:03,  3.74it/s]"
                    ]
                },
                {
                    "name": "stdout",
                    "output_type": "stream",
                    "text": [
                        "Iteration 720: logZ = -255.54\n"
                    ]
                },
                {
                    "name": "stderr",
                    "output_type": "stream",
                    "text": [
                        " 15%|█▍        | 731/5000 [03:41<19:22,  3.67it/s]"
                    ]
                },
                {
                    "name": "stdout",
                    "output_type": "stream",
                    "text": [
                        "Iteration 730: logZ = -245.46\n"
                    ]
                },
                {
                    "name": "stderr",
                    "output_type": "stream",
                    "text": [
                        " 15%|█▍        | 741/5000 [03:43<18:55,  3.75it/s]"
                    ]
                },
                {
                    "name": "stdout",
                    "output_type": "stream",
                    "text": [
                        "Iteration 740: logZ = -237.75\n"
                    ]
                },
                {
                    "name": "stderr",
                    "output_type": "stream",
                    "text": [
                        " 15%|█▌        | 753/5000 [03:45<13:44,  5.15it/s]"
                    ]
                },
                {
                    "name": "stdout",
                    "output_type": "stream",
                    "text": [
                        "Iteration 750: logZ = -233.33\n"
                    ]
                },
                {
                    "name": "stderr",
                    "output_type": "stream",
                    "text": [
                        " 15%|█▌        | 761/5000 [03:47<18:14,  3.87it/s]"
                    ]
                },
                {
                    "name": "stdout",
                    "output_type": "stream",
                    "text": [
                        "Iteration 760: logZ = -228.45\n"
                    ]
                },
                {
                    "name": "stderr",
                    "output_type": "stream",
                    "text": [
                        " 15%|█▌        | 773/5000 [03:49<13:34,  5.19it/s]"
                    ]
                },
                {
                    "name": "stdout",
                    "output_type": "stream",
                    "text": [
                        "Iteration 770: logZ = -222.17\n"
                    ]
                },
                {
                    "name": "stderr",
                    "output_type": "stream",
                    "text": [
                        " 16%|█▌        | 781/5000 [03:51<19:29,  3.61it/s]"
                    ]
                },
                {
                    "name": "stdout",
                    "output_type": "stream",
                    "text": [
                        "Iteration 780: logZ = -218.18\n"
                    ]
                },
                {
                    "name": "stderr",
                    "output_type": "stream",
                    "text": [
                        " 16%|█▌        | 791/5000 [03:54<19:47,  3.54it/s]"
                    ]
                },
                {
                    "name": "stdout",
                    "output_type": "stream",
                    "text": [
                        "Iteration 790: logZ = -214.47\n"
                    ]
                },
                {
                    "name": "stderr",
                    "output_type": "stream",
                    "text": [
                        " 16%|█▌        | 803/5000 [03:56<13:16,  5.27it/s]"
                    ]
                },
                {
                    "name": "stdout",
                    "output_type": "stream",
                    "text": [
                        "Iteration 800: logZ = -212.69\n"
                    ]
                },
                {
                    "name": "stderr",
                    "output_type": "stream",
                    "text": [
                        " 16%|█▌        | 811/5000 [03:58<20:45,  3.36it/s]"
                    ]
                },
                {
                    "name": "stdout",
                    "output_type": "stream",
                    "text": [
                        "Iteration 810: logZ = -210.14\n"
                    ]
                },
                {
                    "name": "stderr",
                    "output_type": "stream",
                    "text": [
                        " 16%|█▋        | 821/5000 [04:00<18:33,  3.75it/s]"
                    ]
                },
                {
                    "name": "stdout",
                    "output_type": "stream",
                    "text": [
                        "Iteration 820: logZ = -208.58\n"
                    ]
                },
                {
                    "name": "stderr",
                    "output_type": "stream",
                    "text": [
                        " 17%|█▋        | 831/5000 [04:02<19:10,  3.62it/s]"
                    ]
                },
                {
                    "name": "stdout",
                    "output_type": "stream",
                    "text": [
                        "Iteration 830: logZ = -206.20\n"
                    ]
                },
                {
                    "name": "stderr",
                    "output_type": "stream",
                    "text": [
                        " 17%|█▋        | 841/5000 [04:04<19:58,  3.47it/s]"
                    ]
                },
                {
                    "name": "stdout",
                    "output_type": "stream",
                    "text": [
                        "Iteration 840: logZ = -202.96\n"
                    ]
                },
                {
                    "name": "stderr",
                    "output_type": "stream",
                    "text": [
                        " 17%|█▋        | 851/5000 [04:07<19:44,  3.50it/s]"
                    ]
                },
                {
                    "name": "stdout",
                    "output_type": "stream",
                    "text": [
                        "Iteration 850: logZ = -200.68\n"
                    ]
                },
                {
                    "name": "stderr",
                    "output_type": "stream",
                    "text": [
                        " 17%|█▋        | 863/5000 [04:09<13:04,  5.27it/s]"
                    ]
                },
                {
                    "name": "stdout",
                    "output_type": "stream",
                    "text": [
                        "Iteration 860: logZ = -198.87\n"
                    ]
                },
                {
                    "name": "stderr",
                    "output_type": "stream",
                    "text": [
                        " 17%|█▋        | 871/5000 [04:11<19:44,  3.49it/s]"
                    ]
                },
                {
                    "name": "stdout",
                    "output_type": "stream",
                    "text": [
                        "Iteration 870: logZ = -197.12\n"
                    ]
                },
                {
                    "name": "stderr",
                    "output_type": "stream",
                    "text": [
                        " 18%|█▊        | 883/5000 [04:13<13:05,  5.24it/s]"
                    ]
                },
                {
                    "name": "stdout",
                    "output_type": "stream",
                    "text": [
                        "Iteration 880: logZ = -195.23\n"
                    ]
                },
                {
                    "name": "stderr",
                    "output_type": "stream",
                    "text": [
                        " 18%|█▊        | 891/5000 [04:15<20:26,  3.35it/s]"
                    ]
                },
                {
                    "name": "stdout",
                    "output_type": "stream",
                    "text": [
                        "Iteration 890: logZ = -193.28\n"
                    ]
                },
                {
                    "name": "stderr",
                    "output_type": "stream",
                    "text": [
                        " 18%|█▊        | 901/5000 [04:17<18:40,  3.66it/s]"
                    ]
                },
                {
                    "name": "stdout",
                    "output_type": "stream",
                    "text": [
                        "Iteration 900: logZ = -191.67\n"
                    ]
                },
                {
                    "name": "stderr",
                    "output_type": "stream",
                    "text": [
                        " 18%|█▊        | 911/5000 [04:19<18:21,  3.71it/s]"
                    ]
                },
                {
                    "name": "stdout",
                    "output_type": "stream",
                    "text": [
                        "Iteration 910: logZ = -190.30\n"
                    ]
                },
                {
                    "name": "stderr",
                    "output_type": "stream",
                    "text": [
                        " 18%|█▊        | 921/5000 [04:21<17:48,  3.82it/s]"
                    ]
                },
                {
                    "name": "stdout",
                    "output_type": "stream",
                    "text": [
                        "Iteration 920: logZ = -189.28\n"
                    ]
                },
                {
                    "name": "stderr",
                    "output_type": "stream",
                    "text": [
                        " 19%|█▊        | 931/5000 [04:23<17:25,  3.89it/s]"
                    ]
                },
                {
                    "name": "stdout",
                    "output_type": "stream",
                    "text": [
                        "Iteration 930: logZ = -188.23\n"
                    ]
                },
                {
                    "name": "stderr",
                    "output_type": "stream",
                    "text": [
                        " 19%|█▉        | 941/5000 [04:26<17:25,  3.88it/s]"
                    ]
                },
                {
                    "name": "stdout",
                    "output_type": "stream",
                    "text": [
                        "Iteration 940: logZ = -186.80\n"
                    ]
                },
                {
                    "name": "stderr",
                    "output_type": "stream",
                    "text": [
                        " 19%|█▉        | 953/5000 [04:28<13:02,  5.18it/s]"
                    ]
                },
                {
                    "name": "stdout",
                    "output_type": "stream",
                    "text": [
                        "Iteration 950: logZ = -185.57\n"
                    ]
                },
                {
                    "name": "stderr",
                    "output_type": "stream",
                    "text": [
                        " 19%|█▉        | 963/5000 [04:30<12:40,  5.30it/s]"
                    ]
                },
                {
                    "name": "stdout",
                    "output_type": "stream",
                    "text": [
                        "Iteration 960: logZ = -184.44\n"
                    ]
                },
                {
                    "name": "stderr",
                    "output_type": "stream",
                    "text": [
                        " 19%|█▉        | 971/5000 [04:32<17:08,  3.92it/s]"
                    ]
                },
                {
                    "name": "stdout",
                    "output_type": "stream",
                    "text": [
                        "Iteration 970: logZ = -183.37\n"
                    ]
                },
                {
                    "name": "stderr",
                    "output_type": "stream",
                    "text": [
                        " 20%|█▉        | 981/5000 [04:34<17:49,  3.76it/s]"
                    ]
                },
                {
                    "name": "stdout",
                    "output_type": "stream",
                    "text": [
                        "Iteration 980: logZ = -182.58\n"
                    ]
                },
                {
                    "name": "stderr",
                    "output_type": "stream",
                    "text": [
                        " 20%|█▉        | 993/5000 [04:36<12:54,  5.17it/s]"
                    ]
                },
                {
                    "name": "stdout",
                    "output_type": "stream",
                    "text": [
                        "Iteration 990: logZ = -181.54\n"
                    ]
                },
                {
                    "name": "stderr",
                    "output_type": "stream",
                    "text": [
                        " 20%|██        | 1001/5000 [04:38<17:05,  3.90it/s]"
                    ]
                },
                {
                    "name": "stdout",
                    "output_type": "stream",
                    "text": [
                        "Iteration 1000: logZ = -180.36\n"
                    ]
                },
                {
                    "name": "stderr",
                    "output_type": "stream",
                    "text": [
                        " 20%|██        | 1011/5000 [04:40<17:44,  3.75it/s]"
                    ]
                },
                {
                    "name": "stdout",
                    "output_type": "stream",
                    "text": [
                        "Iteration 1010: logZ = -179.28\n"
                    ]
                },
                {
                    "name": "stderr",
                    "output_type": "stream",
                    "text": [
                        " 20%|██        | 1023/5000 [04:43<12:36,  5.26it/s]"
                    ]
                },
                {
                    "name": "stdout",
                    "output_type": "stream",
                    "text": [
                        "Iteration 1020: logZ = -178.09\n"
                    ]
                },
                {
                    "name": "stderr",
                    "output_type": "stream",
                    "text": [
                        " 21%|██        | 1031/5000 [04:44<17:08,  3.86it/s]"
                    ]
                },
                {
                    "name": "stdout",
                    "output_type": "stream",
                    "text": [
                        "Iteration 1030: logZ = -177.17\n"
                    ]
                },
                {
                    "name": "stderr",
                    "output_type": "stream",
                    "text": [
                        " 21%|██        | 1041/5000 [04:47<18:30,  3.57it/s]"
                    ]
                },
                {
                    "name": "stdout",
                    "output_type": "stream",
                    "text": [
                        "Iteration 1040: logZ = -176.41\n"
                    ]
                },
                {
                    "name": "stderr",
                    "output_type": "stream",
                    "text": [
                        " 21%|██        | 1053/5000 [04:49<12:05,  5.44it/s]"
                    ]
                },
                {
                    "name": "stdout",
                    "output_type": "stream",
                    "text": [
                        "Iteration 1050: logZ = -175.75\n"
                    ]
                },
                {
                    "name": "stderr",
                    "output_type": "stream",
                    "text": [
                        " 21%|██▏       | 1063/5000 [04:51<10:45,  6.10it/s]"
                    ]
                },
                {
                    "name": "stdout",
                    "output_type": "stream",
                    "text": [
                        "Iteration 1060: logZ = -175.10\n"
                    ]
                },
                {
                    "name": "stderr",
                    "output_type": "stream",
                    "text": [
                        " 21%|██▏       | 1073/5000 [04:52<10:44,  6.09it/s]"
                    ]
                },
                {
                    "name": "stdout",
                    "output_type": "stream",
                    "text": [
                        "Iteration 1070: logZ = -174.22\n"
                    ]
                },
                {
                    "name": "stderr",
                    "output_type": "stream",
                    "text": [
                        " 22%|██▏       | 1083/5000 [04:54<10:44,  6.08it/s]"
                    ]
                },
                {
                    "name": "stdout",
                    "output_type": "stream",
                    "text": [
                        "Iteration 1080: logZ = -173.50\n"
                    ]
                },
                {
                    "name": "stderr",
                    "output_type": "stream",
                    "text": [
                        " 22%|██▏       | 1093/5000 [04:56<11:38,  5.59it/s]"
                    ]
                },
                {
                    "name": "stdout",
                    "output_type": "stream",
                    "text": [
                        "Iteration 1090: logZ = -172.78\n"
                    ]
                },
                {
                    "name": "stderr",
                    "output_type": "stream",
                    "text": [
                        " 22%|██▏       | 1103/5000 [04:58<11:08,  5.83it/s]"
                    ]
                },
                {
                    "name": "stdout",
                    "output_type": "stream",
                    "text": [
                        "Iteration 1100: logZ = -172.21\n"
                    ]
                },
                {
                    "name": "stderr",
                    "output_type": "stream",
                    "text": [
                        " 22%|██▏       | 1113/5000 [05:00<11:11,  5.79it/s]"
                    ]
                },
                {
                    "name": "stdout",
                    "output_type": "stream",
                    "text": [
                        "Iteration 1110: logZ = -171.74\n"
                    ]
                },
                {
                    "name": "stderr",
                    "output_type": "stream",
                    "text": [
                        " 22%|██▏       | 1123/5000 [05:01<10:00,  6.46it/s]"
                    ]
                },
                {
                    "name": "stdout",
                    "output_type": "stream",
                    "text": [
                        "Iteration 1120: logZ = -171.24\n"
                    ]
                },
                {
                    "name": "stderr",
                    "output_type": "stream",
                    "text": [
                        " 23%|██▎       | 1133/5000 [05:03<11:23,  5.66it/s]"
                    ]
                },
                {
                    "name": "stdout",
                    "output_type": "stream",
                    "text": [
                        "Iteration 1130: logZ = -170.77\n"
                    ]
                },
                {
                    "name": "stderr",
                    "output_type": "stream",
                    "text": [
                        " 23%|██▎       | 1143/5000 [05:05<11:14,  5.72it/s]"
                    ]
                },
                {
                    "name": "stdout",
                    "output_type": "stream",
                    "text": [
                        "Iteration 1140: logZ = -170.30\n"
                    ]
                },
                {
                    "name": "stderr",
                    "output_type": "stream",
                    "text": [
                        " 23%|██▎       | 1151/5000 [05:07<14:52,  4.31it/s]"
                    ]
                },
                {
                    "name": "stdout",
                    "output_type": "stream",
                    "text": [
                        "Iteration 1150: logZ = -169.86\n"
                    ]
                },
                {
                    "name": "stderr",
                    "output_type": "stream",
                    "text": [
                        " 23%|██▎       | 1163/5000 [05:09<10:12,  6.26it/s]"
                    ]
                },
                {
                    "name": "stdout",
                    "output_type": "stream",
                    "text": [
                        "Iteration 1160: logZ = -169.28\n"
                    ]
                },
                {
                    "name": "stderr",
                    "output_type": "stream",
                    "text": [
                        " 23%|██▎       | 1173/5000 [05:10<09:47,  6.52it/s]"
                    ]
                },
                {
                    "name": "stdout",
                    "output_type": "stream",
                    "text": [
                        "Iteration 1170: logZ = -168.78\n"
                    ]
                },
                {
                    "name": "stderr",
                    "output_type": "stream",
                    "text": [
                        " 24%|██▎       | 1181/5000 [05:12<15:06,  4.21it/s]"
                    ]
                },
                {
                    "name": "stdout",
                    "output_type": "stream",
                    "text": [
                        "Iteration 1180: logZ = -168.36\n"
                    ]
                },
                {
                    "name": "stderr",
                    "output_type": "stream",
                    "text": [
                        " 24%|██▍       | 1193/5000 [05:14<09:56,  6.38it/s]"
                    ]
                },
                {
                    "name": "stdout",
                    "output_type": "stream",
                    "text": [
                        "Iteration 1190: logZ = -167.91\n"
                    ]
                },
                {
                    "name": "stderr",
                    "output_type": "stream",
                    "text": [
                        " 24%|██▍       | 1203/5000 [05:16<10:15,  6.17it/s]"
                    ]
                },
                {
                    "name": "stdout",
                    "output_type": "stream",
                    "text": [
                        "Iteration 1200: logZ = -167.52\n"
                    ]
                },
                {
                    "name": "stderr",
                    "output_type": "stream",
                    "text": [
                        " 24%|██▍       | 1213/5000 [05:17<09:41,  6.51it/s]"
                    ]
                },
                {
                    "name": "stdout",
                    "output_type": "stream",
                    "text": [
                        "Iteration 1210: logZ = -167.17\n"
                    ]
                },
                {
                    "name": "stderr",
                    "output_type": "stream",
                    "text": [
                        " 24%|██▍       | 1223/5000 [05:19<09:27,  6.65it/s]"
                    ]
                },
                {
                    "name": "stdout",
                    "output_type": "stream",
                    "text": [
                        "Iteration 1220: logZ = -166.86\n"
                    ]
                },
                {
                    "name": "stderr",
                    "output_type": "stream",
                    "text": [
                        " 25%|██▍       | 1233/5000 [05:21<09:06,  6.90it/s]"
                    ]
                },
                {
                    "name": "stdout",
                    "output_type": "stream",
                    "text": [
                        "Iteration 1230: logZ = -166.58\n"
                    ]
                },
                {
                    "name": "stderr",
                    "output_type": "stream",
                    "text": [
                        " 25%|██▍       | 1243/5000 [05:22<09:12,  6.80it/s]"
                    ]
                },
                {
                    "name": "stdout",
                    "output_type": "stream",
                    "text": [
                        "Iteration 1240: logZ = -166.29\n"
                    ]
                },
                {
                    "name": "stderr",
                    "output_type": "stream",
                    "text": [
                        " 25%|██▌       | 1253/5000 [05:24<09:53,  6.32it/s]"
                    ]
                },
                {
                    "name": "stdout",
                    "output_type": "stream",
                    "text": [
                        "Iteration 1250: logZ = -165.98\n"
                    ]
                },
                {
                    "name": "stderr",
                    "output_type": "stream",
                    "text": [
                        " 25%|██▌       | 1261/5000 [05:26<13:21,  4.67it/s]"
                    ]
                },
                {
                    "name": "stdout",
                    "output_type": "stream",
                    "text": [
                        "Iteration 1260: logZ = -165.67\n"
                    ]
                },
                {
                    "name": "stderr",
                    "output_type": "stream",
                    "text": [
                        " 25%|██▌       | 1273/5000 [05:28<08:36,  7.22it/s]"
                    ]
                },
                {
                    "name": "stdout",
                    "output_type": "stream",
                    "text": [
                        "Iteration 1270: logZ = -165.37\n"
                    ]
                },
                {
                    "name": "stderr",
                    "output_type": "stream",
                    "text": [
                        " 26%|██▌       | 1281/5000 [05:29<15:56,  3.89it/s]"
                    ]
                },
                {
                    "name": "stdout",
                    "output_type": "stream",
                    "text": [
                        "Iteration 1280: logZ = -165.10\n"
                    ]
                },
                {
                    "name": "stderr",
                    "output_type": "stream",
                    "text": [
                        " 26%|██▌       | 1293/5000 [05:31<09:27,  6.53it/s]"
                    ]
                },
                {
                    "name": "stdout",
                    "output_type": "stream",
                    "text": [
                        "Iteration 1290: logZ = -164.86\n"
                    ]
                },
                {
                    "name": "stderr",
                    "output_type": "stream",
                    "text": [
                        " 26%|██▌       | 1303/5000 [05:33<09:02,  6.81it/s]"
                    ]
                },
                {
                    "name": "stdout",
                    "output_type": "stream",
                    "text": [
                        "Iteration 1300: logZ = -164.64\n"
                    ]
                },
                {
                    "name": "stderr",
                    "output_type": "stream",
                    "text": [
                        " 26%|██▋       | 1313/5000 [05:35<09:04,  6.77it/s]"
                    ]
                },
                {
                    "name": "stdout",
                    "output_type": "stream",
                    "text": [
                        "Iteration 1310: logZ = -164.44\n"
                    ]
                },
                {
                    "name": "stderr",
                    "output_type": "stream",
                    "text": [
                        " 26%|██▋       | 1323/5000 [05:36<09:42,  6.31it/s]"
                    ]
                },
                {
                    "name": "stdout",
                    "output_type": "stream",
                    "text": [
                        "Iteration 1320: logZ = -164.24\n"
                    ]
                },
                {
                    "name": "stderr",
                    "output_type": "stream",
                    "text": [
                        " 27%|██▋       | 1333/5000 [05:38<09:28,  6.45it/s]"
                    ]
                },
                {
                    "name": "stdout",
                    "output_type": "stream",
                    "text": [
                        "Iteration 1330: logZ = -164.03\n"
                    ]
                },
                {
                    "name": "stderr",
                    "output_type": "stream",
                    "text": [
                        " 27%|██▋       | 1343/5000 [05:40<09:05,  6.70it/s]"
                    ]
                },
                {
                    "name": "stdout",
                    "output_type": "stream",
                    "text": [
                        "Iteration 1340: logZ = -163.85\n"
                    ]
                },
                {
                    "name": "stderr",
                    "output_type": "stream",
                    "text": [
                        " 27%|██▋       | 1353/5000 [05:41<08:33,  7.11it/s]"
                    ]
                },
                {
                    "name": "stdout",
                    "output_type": "stream",
                    "text": [
                        "Iteration 1350: logZ = -163.67\n"
                    ]
                },
                {
                    "name": "stderr",
                    "output_type": "stream",
                    "text": [
                        " 27%|██▋       | 1363/5000 [05:43<09:39,  6.27it/s]"
                    ]
                },
                {
                    "name": "stdout",
                    "output_type": "stream",
                    "text": [
                        "Iteration 1360: logZ = -163.51\n"
                    ]
                },
                {
                    "name": "stderr",
                    "output_type": "stream",
                    "text": [
                        " 27%|██▋       | 1373/5000 [05:45<09:55,  6.09it/s]"
                    ]
                },
                {
                    "name": "stdout",
                    "output_type": "stream",
                    "text": [
                        "Iteration 1370: logZ = -163.34\n"
                    ]
                },
                {
                    "name": "stderr",
                    "output_type": "stream",
                    "text": [
                        " 28%|██▊       | 1383/5000 [05:47<09:01,  6.68it/s]"
                    ]
                },
                {
                    "name": "stdout",
                    "output_type": "stream",
                    "text": [
                        "Iteration 1380: logZ = -163.17\n"
                    ]
                },
                {
                    "name": "stderr",
                    "output_type": "stream",
                    "text": [
                        " 28%|██▊       | 1393/5000 [05:48<09:15,  6.50it/s]"
                    ]
                },
                {
                    "name": "stdout",
                    "output_type": "stream",
                    "text": [
                        "Iteration 1390: logZ = -163.01\n"
                    ]
                },
                {
                    "name": "stderr",
                    "output_type": "stream",
                    "text": [
                        " 28%|██▊       | 1403/5000 [05:50<09:52,  6.07it/s]"
                    ]
                },
                {
                    "name": "stdout",
                    "output_type": "stream",
                    "text": [
                        "Iteration 1400: logZ = -162.87\n"
                    ]
                },
                {
                    "name": "stderr",
                    "output_type": "stream",
                    "text": [
                        " 28%|██▊       | 1411/5000 [05:52<13:29,  4.43it/s]"
                    ]
                },
                {
                    "name": "stdout",
                    "output_type": "stream",
                    "text": [
                        "Iteration 1410: logZ = -162.74\n"
                    ]
                },
                {
                    "name": "stderr",
                    "output_type": "stream",
                    "text": [
                        " 28%|██▊       | 1423/5000 [05:54<09:42,  6.14it/s]"
                    ]
                },
                {
                    "name": "stdout",
                    "output_type": "stream",
                    "text": [
                        "Iteration 1420: logZ = -162.62\n"
                    ]
                },
                {
                    "name": "stderr",
                    "output_type": "stream",
                    "text": [
                        " 29%|██▊       | 1433/5000 [05:55<10:02,  5.92it/s]"
                    ]
                },
                {
                    "name": "stdout",
                    "output_type": "stream",
                    "text": [
                        "Iteration 1430: logZ = -162.49\n"
                    ]
                },
                {
                    "name": "stderr",
                    "output_type": "stream",
                    "text": [
                        " 29%|██▉       | 1443/5000 [05:57<09:37,  6.16it/s]"
                    ]
                },
                {
                    "name": "stdout",
                    "output_type": "stream",
                    "text": [
                        "Iteration 1440: logZ = -162.36\n"
                    ]
                },
                {
                    "name": "stderr",
                    "output_type": "stream",
                    "text": [
                        " 29%|██▉       | 1453/5000 [05:59<10:53,  5.43it/s]"
                    ]
                },
                {
                    "name": "stdout",
                    "output_type": "stream",
                    "text": [
                        "Iteration 1450: logZ = -162.23\n"
                    ]
                },
                {
                    "name": "stderr",
                    "output_type": "stream",
                    "text": [
                        " 29%|██▉       | 1463/5000 [06:01<10:42,  5.51it/s]"
                    ]
                },
                {
                    "name": "stdout",
                    "output_type": "stream",
                    "text": [
                        "Iteration 1460: logZ = -162.12\n"
                    ]
                },
                {
                    "name": "stderr",
                    "output_type": "stream",
                    "text": [
                        " 29%|██▉       | 1473/5000 [06:03<10:24,  5.65it/s]"
                    ]
                },
                {
                    "name": "stdout",
                    "output_type": "stream",
                    "text": [
                        "Iteration 1470: logZ = -162.02\n"
                    ]
                },
                {
                    "name": "stderr",
                    "output_type": "stream",
                    "text": [
                        " 30%|██▉       | 1483/5000 [06:05<09:37,  6.09it/s]"
                    ]
                },
                {
                    "name": "stdout",
                    "output_type": "stream",
                    "text": [
                        "Iteration 1480: logZ = -161.92\n"
                    ]
                },
                {
                    "name": "stderr",
                    "output_type": "stream",
                    "text": [
                        " 30%|██▉       | 1493/5000 [06:06<09:05,  6.43it/s]"
                    ]
                },
                {
                    "name": "stdout",
                    "output_type": "stream",
                    "text": [
                        "Iteration 1490: logZ = -161.83\n"
                    ]
                },
                {
                    "name": "stderr",
                    "output_type": "stream",
                    "text": [
                        " 30%|███       | 1503/5000 [06:08<10:12,  5.71it/s]"
                    ]
                },
                {
                    "name": "stdout",
                    "output_type": "stream",
                    "text": [
                        "Iteration 1500: logZ = -161.75\n"
                    ]
                },
                {
                    "name": "stderr",
                    "output_type": "stream",
                    "text": [
                        " 30%|███       | 1513/5000 [06:10<09:05,  6.39it/s]"
                    ]
                },
                {
                    "name": "stdout",
                    "output_type": "stream",
                    "text": [
                        "Iteration 1510: logZ = -161.68\n"
                    ]
                },
                {
                    "name": "stderr",
                    "output_type": "stream",
                    "text": [
                        " 30%|███       | 1521/5000 [06:12<11:58,  4.84it/s]"
                    ]
                },
                {
                    "name": "stdout",
                    "output_type": "stream",
                    "text": [
                        "Iteration 1520: logZ = -161.60\n"
                    ]
                },
                {
                    "name": "stderr",
                    "output_type": "stream",
                    "text": [
                        " 31%|███       | 1533/5000 [06:14<09:17,  6.22it/s]"
                    ]
                },
                {
                    "name": "stdout",
                    "output_type": "stream",
                    "text": [
                        "Iteration 1530: logZ = -161.53\n"
                    ]
                },
                {
                    "name": "stderr",
                    "output_type": "stream",
                    "text": [
                        " 31%|███       | 1543/5000 [06:15<08:21,  6.89it/s]"
                    ]
                },
                {
                    "name": "stdout",
                    "output_type": "stream",
                    "text": [
                        "Iteration 1540: logZ = -161.46\n"
                    ]
                },
                {
                    "name": "stderr",
                    "output_type": "stream",
                    "text": [
                        " 31%|███       | 1553/5000 [06:17<08:47,  6.53it/s]"
                    ]
                },
                {
                    "name": "stdout",
                    "output_type": "stream",
                    "text": [
                        "Iteration 1550: logZ = -161.40\n"
                    ]
                },
                {
                    "name": "stderr",
                    "output_type": "stream",
                    "text": [
                        " 31%|███▏      | 1563/5000 [06:18<08:33,  6.69it/s]"
                    ]
                },
                {
                    "name": "stdout",
                    "output_type": "stream",
                    "text": [
                        "Iteration 1560: logZ = -161.34\n"
                    ]
                },
                {
                    "name": "stderr",
                    "output_type": "stream",
                    "text": [
                        " 31%|███▏      | 1573/5000 [06:20<08:51,  6.45it/s]"
                    ]
                },
                {
                    "name": "stdout",
                    "output_type": "stream",
                    "text": [
                        "Iteration 1570: logZ = -161.28\n"
                    ]
                },
                {
                    "name": "stderr",
                    "output_type": "stream",
                    "text": [
                        " 32%|███▏      | 1581/5000 [06:22<12:12,  4.67it/s]"
                    ]
                },
                {
                    "name": "stdout",
                    "output_type": "stream",
                    "text": [
                        "Iteration 1580: logZ = -161.23\n"
                    ]
                },
                {
                    "name": "stderr",
                    "output_type": "stream",
                    "text": [
                        " 32%|███▏      | 1593/5000 [06:24<08:35,  6.61it/s]"
                    ]
                },
                {
                    "name": "stdout",
                    "output_type": "stream",
                    "text": [
                        "Iteration 1590: logZ = -161.18\n"
                    ]
                },
                {
                    "name": "stderr",
                    "output_type": "stream",
                    "text": [
                        " 32%|███▏      | 1601/5000 [06:25<13:20,  4.25it/s]"
                    ]
                },
                {
                    "name": "stdout",
                    "output_type": "stream",
                    "text": [
                        "Iteration 1600: logZ = -161.14\n"
                    ]
                },
                {
                    "name": "stderr",
                    "output_type": "stream",
                    "text": [
                        " 32%|███▏      | 1613/5000 [06:27<07:44,  7.29it/s]"
                    ]
                },
                {
                    "name": "stdout",
                    "output_type": "stream",
                    "text": [
                        "Iteration 1610: logZ = -161.09\n"
                    ]
                },
                {
                    "name": "stderr",
                    "output_type": "stream",
                    "text": [
                        " 32%|███▏      | 1623/5000 [06:29<08:48,  6.39it/s]"
                    ]
                },
                {
                    "name": "stdout",
                    "output_type": "stream",
                    "text": [
                        "Iteration 1620: logZ = -161.05\n"
                    ]
                },
                {
                    "name": "stderr",
                    "output_type": "stream",
                    "text": [
                        " 33%|███▎      | 1633/5000 [06:31<09:32,  5.89it/s]"
                    ]
                },
                {
                    "name": "stdout",
                    "output_type": "stream",
                    "text": [
                        "Iteration 1630: logZ = -161.01\n"
                    ]
                },
                {
                    "name": "stderr",
                    "output_type": "stream",
                    "text": [
                        " 33%|███▎      | 1641/5000 [06:32<12:34,  4.45it/s]"
                    ]
                },
                {
                    "name": "stdout",
                    "output_type": "stream",
                    "text": [
                        "Iteration 1640: logZ = -160.97\n"
                    ]
                },
                {
                    "name": "stderr",
                    "output_type": "stream",
                    "text": [
                        " 33%|███▎      | 1653/5000 [06:34<08:35,  6.49it/s]"
                    ]
                },
                {
                    "name": "stdout",
                    "output_type": "stream",
                    "text": [
                        "Iteration 1650: logZ = -160.94\n"
                    ]
                },
                {
                    "name": "stderr",
                    "output_type": "stream",
                    "text": [
                        " 33%|███▎      | 1663/5000 [06:36<08:47,  6.32it/s]"
                    ]
                },
                {
                    "name": "stdout",
                    "output_type": "stream",
                    "text": [
                        "Iteration 1660: logZ = -160.91\n"
                    ]
                },
                {
                    "name": "stderr",
                    "output_type": "stream",
                    "text": [
                        " 33%|███▎      | 1673/5000 [06:38<09:51,  5.62it/s]"
                    ]
                },
                {
                    "name": "stdout",
                    "output_type": "stream",
                    "text": [
                        "Iteration 1670: logZ = -160.87\n"
                    ]
                },
                {
                    "name": "stderr",
                    "output_type": "stream",
                    "text": [
                        " 34%|███▎      | 1681/5000 [06:40<13:56,  3.97it/s]"
                    ]
                },
                {
                    "name": "stdout",
                    "output_type": "stream",
                    "text": [
                        "Iteration 1680: logZ = -160.85\n"
                    ]
                },
                {
                    "name": "stderr",
                    "output_type": "stream",
                    "text": [
                        " 34%|███▍      | 1693/5000 [06:41<08:42,  6.33it/s]"
                    ]
                },
                {
                    "name": "stdout",
                    "output_type": "stream",
                    "text": [
                        "Iteration 1690: logZ = -160.82\n"
                    ]
                },
                {
                    "name": "stderr",
                    "output_type": "stream",
                    "text": [
                        " 34%|███▍      | 1701/5000 [06:43<12:01,  4.57it/s]"
                    ]
                },
                {
                    "name": "stdout",
                    "output_type": "stream",
                    "text": [
                        "Iteration 1700: logZ = -160.79\n"
                    ]
                },
                {
                    "name": "stderr",
                    "output_type": "stream",
                    "text": [
                        " 34%|███▍      | 1713/5000 [06:45<09:22,  5.84it/s]"
                    ]
                },
                {
                    "name": "stdout",
                    "output_type": "stream",
                    "text": [
                        "Iteration 1710: logZ = -160.77\n"
                    ]
                },
                {
                    "name": "stderr",
                    "output_type": "stream",
                    "text": [
                        " 34%|███▍      | 1723/5000 [06:47<07:54,  6.91it/s]"
                    ]
                },
                {
                    "name": "stdout",
                    "output_type": "stream",
                    "text": [
                        "Iteration 1720: logZ = -160.74\n"
                    ]
                },
                {
                    "name": "stderr",
                    "output_type": "stream",
                    "text": [
                        " 35%|███▍      | 1731/5000 [06:48<11:28,  4.75it/s]"
                    ]
                },
                {
                    "name": "stdout",
                    "output_type": "stream",
                    "text": [
                        "Iteration 1730: logZ = -160.72\n"
                    ]
                },
                {
                    "name": "stderr",
                    "output_type": "stream",
                    "text": [
                        " 35%|███▍      | 1743/5000 [06:50<07:59,  6.79it/s]"
                    ]
                },
                {
                    "name": "stdout",
                    "output_type": "stream",
                    "text": [
                        "Iteration 1740: logZ = -160.70\n"
                    ]
                },
                {
                    "name": "stderr",
                    "output_type": "stream",
                    "text": [
                        " 35%|███▌      | 1751/5000 [06:52<10:53,  4.97it/s]"
                    ]
                },
                {
                    "name": "stdout",
                    "output_type": "stream",
                    "text": [
                        "Iteration 1750: logZ = -160.68\n"
                    ]
                },
                {
                    "name": "stderr",
                    "output_type": "stream",
                    "text": [
                        " 35%|███▌      | 1763/5000 [06:54<09:10,  5.88it/s]"
                    ]
                },
                {
                    "name": "stdout",
                    "output_type": "stream",
                    "text": [
                        "Iteration 1760: logZ = -160.67\n"
                    ]
                },
                {
                    "name": "stderr",
                    "output_type": "stream",
                    "text": [
                        " 35%|███▌      | 1771/5000 [06:55<13:18,  4.04it/s]"
                    ]
                },
                {
                    "name": "stdout",
                    "output_type": "stream",
                    "text": [
                        "Iteration 1770: logZ = -160.65\n"
                    ]
                },
                {
                    "name": "stderr",
                    "output_type": "stream",
                    "text": [
                        " 36%|███▌      | 1781/5000 [06:57<11:57,  4.49it/s]"
                    ]
                },
                {
                    "name": "stdout",
                    "output_type": "stream",
                    "text": [
                        "Iteration 1780: logZ = -160.63\n"
                    ]
                },
                {
                    "name": "stderr",
                    "output_type": "stream",
                    "text": [
                        " 36%|███▌      | 1791/5000 [06:59<12:32,  4.26it/s]"
                    ]
                },
                {
                    "name": "stdout",
                    "output_type": "stream",
                    "text": [
                        "Iteration 1790: logZ = -160.62\n"
                    ]
                },
                {
                    "name": "stderr",
                    "output_type": "stream",
                    "text": [
                        " 36%|███▌      | 1801/5000 [07:01<13:46,  3.87it/s]"
                    ]
                },
                {
                    "name": "stdout",
                    "output_type": "stream",
                    "text": [
                        "Iteration 1800: logZ = -160.61\n"
                    ]
                },
                {
                    "name": "stderr",
                    "output_type": "stream",
                    "text": [
                        " 36%|███▌      | 1811/5000 [07:02<12:24,  4.28it/s]"
                    ]
                },
                {
                    "name": "stdout",
                    "output_type": "stream",
                    "text": [
                        "Iteration 1810: logZ = -160.59\n"
                    ]
                },
                {
                    "name": "stderr",
                    "output_type": "stream",
                    "text": [
                        " 36%|███▋      | 1823/5000 [07:04<08:02,  6.59it/s]"
                    ]
                },
                {
                    "name": "stdout",
                    "output_type": "stream",
                    "text": [
                        "Iteration 1820: logZ = -160.58\n"
                    ]
                },
                {
                    "name": "stderr",
                    "output_type": "stream",
                    "text": [
                        " 37%|███▋      | 1833/5000 [07:06<07:10,  7.35it/s]"
                    ]
                },
                {
                    "name": "stdout",
                    "output_type": "stream",
                    "text": [
                        "Iteration 1830: logZ = -160.57\n"
                    ]
                },
                {
                    "name": "stderr",
                    "output_type": "stream",
                    "text": [
                        " 37%|███▋      | 1843/5000 [07:08<08:21,  6.29it/s]"
                    ]
                },
                {
                    "name": "stdout",
                    "output_type": "stream",
                    "text": [
                        "Iteration 1840: logZ = -160.56\n"
                    ]
                },
                {
                    "name": "stderr",
                    "output_type": "stream",
                    "text": [
                        " 37%|███▋      | 1853/5000 [07:09<07:19,  7.16it/s]"
                    ]
                },
                {
                    "name": "stdout",
                    "output_type": "stream",
                    "text": [
                        "Iteration 1850: logZ = -160.55\n"
                    ]
                },
                {
                    "name": "stderr",
                    "output_type": "stream",
                    "text": [
                        " 37%|███▋      | 1863/5000 [07:11<07:12,  7.25it/s]"
                    ]
                },
                {
                    "name": "stdout",
                    "output_type": "stream",
                    "text": [
                        "Iteration 1860: logZ = -160.54\n"
                    ]
                },
                {
                    "name": "stderr",
                    "output_type": "stream",
                    "text": [
                        " 37%|███▋      | 1873/5000 [07:12<07:18,  7.13it/s]"
                    ]
                },
                {
                    "name": "stdout",
                    "output_type": "stream",
                    "text": [
                        "Iteration 1870: logZ = -160.53\n"
                    ]
                },
                {
                    "name": "stderr",
                    "output_type": "stream",
                    "text": [
                        " 38%|███▊      | 1883/5000 [07:14<07:35,  6.85it/s]"
                    ]
                },
                {
                    "name": "stdout",
                    "output_type": "stream",
                    "text": [
                        "Iteration 1880: logZ = -160.53\n"
                    ]
                },
                {
                    "name": "stderr",
                    "output_type": "stream",
                    "text": [
                        " 38%|███▊      | 1893/5000 [07:16<08:23,  6.17it/s]"
                    ]
                },
                {
                    "name": "stdout",
                    "output_type": "stream",
                    "text": [
                        "Iteration 1890: logZ = -160.52\n"
                    ]
                },
                {
                    "name": "stderr",
                    "output_type": "stream",
                    "text": [
                        " 38%|███▊      | 1903/5000 [07:17<08:41,  5.94it/s]"
                    ]
                },
                {
                    "name": "stdout",
                    "output_type": "stream",
                    "text": [
                        "Iteration 1900: logZ = -160.51\n"
                    ]
                },
                {
                    "name": "stderr",
                    "output_type": "stream",
                    "text": [
                        " 38%|███▊      | 1913/5000 [07:19<07:27,  6.91it/s]"
                    ]
                },
                {
                    "name": "stdout",
                    "output_type": "stream",
                    "text": [
                        "Iteration 1910: logZ = -160.50\n"
                    ]
                },
                {
                    "name": "stderr",
                    "output_type": "stream",
                    "text": [
                        " 38%|███▊      | 1923/5000 [07:20<07:17,  7.03it/s]"
                    ]
                },
                {
                    "name": "stdout",
                    "output_type": "stream",
                    "text": [
                        "Iteration 1920: logZ = -160.50\n"
                    ]
                },
                {
                    "name": "stderr",
                    "output_type": "stream",
                    "text": [
                        " 39%|███▊      | 1933/5000 [07:22<08:30,  6.01it/s]"
                    ]
                },
                {
                    "name": "stdout",
                    "output_type": "stream",
                    "text": [
                        "Iteration 1930: logZ = -160.49\n"
                    ]
                },
                {
                    "name": "stderr",
                    "output_type": "stream",
                    "text": [
                        " 39%|███▉      | 1941/5000 [07:24<12:09,  4.19it/s]"
                    ]
                },
                {
                    "name": "stdout",
                    "output_type": "stream",
                    "text": [
                        "Iteration 1940: logZ = -160.49\n"
                    ]
                },
                {
                    "name": "stderr",
                    "output_type": "stream",
                    "text": [
                        " 39%|███▉      | 1953/5000 [07:26<08:41,  5.84it/s]"
                    ]
                },
                {
                    "name": "stdout",
                    "output_type": "stream",
                    "text": [
                        "Iteration 1950: logZ = -160.48\n"
                    ]
                },
                {
                    "name": "stderr",
                    "output_type": "stream",
                    "text": [
                        " 39%|███▉      | 1963/5000 [07:28<08:35,  5.90it/s]"
                    ]
                },
                {
                    "name": "stdout",
                    "output_type": "stream",
                    "text": [
                        "Iteration 1960: logZ = -160.48\n"
                    ]
                },
                {
                    "name": "stderr",
                    "output_type": "stream",
                    "text": [
                        " 39%|███▉      | 1973/5000 [07:29<08:44,  5.78it/s]"
                    ]
                },
                {
                    "name": "stdout",
                    "output_type": "stream",
                    "text": [
                        "Iteration 1970: logZ = -160.47\n"
                    ]
                },
                {
                    "name": "stderr",
                    "output_type": "stream",
                    "text": [
                        " 40%|███▉      | 1983/5000 [07:31<07:09,  7.02it/s]"
                    ]
                },
                {
                    "name": "stdout",
                    "output_type": "stream",
                    "text": [
                        "Iteration 1980: logZ = -160.47\n"
                    ]
                },
                {
                    "name": "stderr",
                    "output_type": "stream",
                    "text": [
                        " 40%|███▉      | 1991/5000 [07:33<11:45,  4.26it/s]"
                    ]
                },
                {
                    "name": "stdout",
                    "output_type": "stream",
                    "text": [
                        "Iteration 1990: logZ = -160.46\n"
                    ]
                },
                {
                    "name": "stderr",
                    "output_type": "stream",
                    "text": [
                        " 40%|███▉      | 1998/5000 [07:34<11:22,  4.40it/s]\n"
                    ]
                },
                {
                    "name": "stdout",
                    "output_type": "stream",
                    "text": [
                        "Runtime evidence: -160.46\n",
                        "Estimated evidence: -161.77 ± 0.41\n"
                    ]
                }
            ],
            "source": [
                "dead = []\n",
                "num_iterations = NS_SETTINGS['max_iterations']\n",
                "\n",
                "print(\"Running nested sampling...\")\n",
                "for i in tqdm.trange(num_iterations):\n",
                "    if state.sampler_state.logZ_live - state.sampler_state.logZ < -3:\n",
                "        break\n",
                "\n",
                "    (state, rng_key), dead_info = one_step((state, rng_key), None)\n",
                "    dead.append(dead_info)\n",
                "\n",
                "    if i % 10 == 0:\n",
                "        print(f\"Iteration {i}: logZ = {state.sampler_state.logZ:.2f}\")\n",
                "\n",
                "# Combine dead points and compute log evidence\n",
                "dead = jax.tree_map(lambda *args: jnp.concatenate(args), *dead)\n",
                "logw = log_weights(rng_key, dead)\n",
                "logZs = jax.scipy.special.logsumexp(logw, axis=0)\n",
                "\n",
                "print(f\"Runtime evidence: {state.sampler_state.logZ:.2f}\")\n",
                "print(f\"Estimated evidence: {logZs.mean():.2f} ± {logZs.std():.2f}\")\n"
            ]
        },
        {
            "cell_type": "markdown",
            "metadata": {},
            "source": [
                "## Post-Processing and Plotting\n",
                "\n",
                "After running the nested sampling procedure, we process the samples by saving the chains and creating a corner plot to visualise the posterior distributions. The `anesthetic` package is used for the 2D plots."
            ]
        },
        {
            "cell_type": "code",
            "execution_count": 13,
            "metadata": {},
            "outputs": [
                {
                    "name": "stdout",
                    "output_type": "stream",
                    "text": [
                        "Saved 1998 samples to chains/chains_dead-birth.txt\n"
                    ]
                },
                {
                    "data": {
                        "image/png": "[encoded data removed]",
                        "text/plain": [
                            "<Figure size 1000x1000 with 20 Axes>"
                        ]
                    },
                    "metadata": {},
                    "output_type": "display_data"
                },
                {
                    "name": "stdout",
                    "output_type": "stream",
                    "text": [
                        "Corner plot saved as 'corner_plot.png'.\n"
                    ]
                }
            ],
            "source": [
                "# Define parameter names based on whether redshift is fixed or sigma is fit\n",
                "if fix_z:\n",
                "    param_names = ['t0', 'log_x0', 'x1', 'c']\n",
                "else:\n",
                "    param_names = ['z', 't0', 'log_x0', 'x1', 'c']\n",
                "if fit_sigma:\n",
                "    param_names.append('log_sigma')\n",
                "\n",
                "# Save the chains of dead points\n",
                "save_chains_dead_birth(dead, param_names)\n",
                "\n",
                "# Read the chains using anesthetic\n",
                "samples = read_chains('chains/chains', columns=param_names)\n",
                "\n",
                "# Create a corner plot of the posterior distributions\n",
                "fig, axes = make_2d_axes(param_names, figsize=(10, 10), facecolor='w')\n",
                "samples.plot_2d(axes, alpha=0.9, label=\"posterior\")\n",
                "axes.iloc[-1, 0].legend(bbox_to_anchor=(len(axes)/2, len(axes)), loc='lower center', ncols=2)\n",
                "\n",
                "plt.savefig('corner_plot.png')\n",
                "plt.show()\n",
                "\n",
                "print(\"Corner plot saved as 'corner_plot.png'.\")"
            ]
        },
        {
            "cell_type": "markdown",
            "metadata": {},
            "source": [
                "## Parameter Statistics\n",
                "\n",
                "Finally, we print a summary of the fitted parameters, showing the mean and standard deviation for each parameter based on the posterior samples."
            ]
        },
        {
            "cell_type": "code",
            "execution_count": 14,
            "metadata": {},
            "outputs": [
                {
                    "name": "stdout",
                    "output_type": "stream",
                    "text": [
                        "\n",
                        "Parameter Statistics:\n",
                        "--------------------------------------------------\n",
                        "t0: 58606.474450 ± 0.606196\n",
                        "log_x0: -2.967038 ± 0.022591\n",
                        "x1: 1.427032 ± 0.647398\n",
                        "c: 0.050179 ± 0.066179\n"
                    ]
                }
            ],
            "source": [
                "print(\"\\nParameter Statistics:\")\n",
                "print(\"-\" * 50)\n",
                "for param in param_names:\n",
                "    mean = samples[param].mean()\n",
                "    std = samples[param].std()\n",
                "    print(f\"{param}: {mean:.6f} ± {std:.6f}\")"
            ]
        }
    ],
    "metadata": {
        "kernelspec": {
            "display_name": "Python 3",
            "language": "python",
            "name": "python3"
        },
        "language_info": {
            "codemirror_mode": {
                "name": "ipython",
                "version": 3
            },
            "file_extension": ".py",
            "mimetype": "text/x-python",
            "name": "python",
            "nbconvert_exporter": "python",
            "pygments_lexer": "ipython3",
            "version": "3.13.2"
        }
    },
    "nbformat": 4,
    "nbformat_minor": 2
}
